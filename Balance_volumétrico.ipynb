{
  "nbformat": 4,
  "nbformat_minor": 0,
  "metadata": {
    "colab": {
      "provenance": []
    },
    "kernelspec": {
      "name": "python3",
      "display_name": "Python 3"
    },
    "language_info": {
      "name": "python"
    }
  },
  "cells": [
    {
      "cell_type": "markdown",
      "source": [
        "# Balance Volumetrico\n",
        "## FWKO"
      ],
      "metadata": {
        "id": "q8Q2KygrzLYR"
      }
    },
    {
      "cell_type": "code",
      "source": [
        "import pandas as pd\n",
        "import math"
      ],
      "metadata": {
        "id": "CUuTHzanBgBd"
      },
      "execution_count": null,
      "outputs": []
    },
    {
      "cell_type": "code",
      "source": [
        "#Primero pedimos al usuario que ingrese los datos\n",
        "BFPD=float(input(\"Ingrese el caudal del fluido(BFPD): \"))\n",
        "API=float(input(\"Ingrese los grados API del petróleo: \"))\n",
        "BSW=float(input(\"Ingrese el BSW del fluido(porcentaje): \"))\n",
        "#Creo que es FWKO porque wash tank trabaja con bsw < 1% y ppm < 100 xd\n",
        "efi=float(input(\"Ingrese la eficiencia del FWKO: \"))\n",
        "ppm=float(input(\"Ingrese las partes por millon del FWKO: \"))\n",
        "#Acá le pido las ppm del wash tank\n",
        "ppmw=float(input(\"Ingrese las partes por millon del wash tank: \"))"
      ],
      "metadata": {
        "colab": {
          "base_uri": "https://localhost:8080/"
        },
        "id": "Et4i7GGqzRrL",
        "outputId": "6729bc40-0a07-4056-c969-1f0d01579f11"
      },
      "execution_count": null,
      "outputs": [
        {
          "name": "stdout",
          "output_type": "stream",
          "text": [
            "Ingrese el caudal del fluido(BFPD): 125000\n",
            "Ingrese los grados API del petróleo: 30\n",
            "Ingrese el BSW del fluido(porcentaje): 70\n",
            "Ingrese la eficiencia del wash tank: 95\n",
            "Ingrese las partes por millon: 1000\n",
            "Ingrese las partes por millon del wash tank: 50\n"
          ]
        }
      ]
    },
    {
      "cell_type": "code",
      "source": [
        "#Hacemos los calculos\n",
        "#Puse las funciones que saqué para no pedirle el % de agua emulsionada\n",
        "if(API<=20 and API>0):\n",
        " porc=math.ceil((-5/3)*API+55)\n",
        " print(\"Su % de agua emulsionada es: \",porc) \n",
        "elif (API>20 and API<45):\n",
        "  porc=math.ceil((-5/8)*API+133/4);\n",
        "  print(\"Su % de agua emulsionada es: \",porc)\n",
        "BWPD = (BSW/100)*BFPD;\n",
        "BOPD = BFPD-BWPD;\n",
        "emul = BOPD*100/(100-porc);\n",
        "aemul = emul*(porc/100);\n",
        "alib = BWPD-aemul;\n"
      ],
      "metadata": {
        "id": "GEIhfsrv72dG",
        "colab": {
          "base_uri": "https://localhost:8080/"
        },
        "outputId": "a7c01877-8ace-4ec2-d800-a6c78f7b7dc0"
      },
      "execution_count": null,
      "outputs": [
        {
          "output_type": "stream",
          "name": "stdout",
          "text": [
            "Su % de agua emulsionada es:  15\n"
          ]
        }
      ]
    },
    {
      "cell_type": "code",
      "source": [
        "# Crear un DataFrame vacío con 6 filas y 8 columnas\n",
        "tabla = pd.DataFrame(index=range(7), columns=range(8))\n",
        "# Agregar datos a la tabla\n",
        "#Completamos la tabla Datos\n",
        "tabla.iloc[0,0] = \"Datos\"\n",
        "tabla.iloc[1,0] = \"Oil\"\n",
        "tabla.iloc[2,0] = \"Water\"\n",
        "tabla.iloc[3,0] = \"Emulsión\"\n",
        "tabla.iloc[4,0] = \"A.Libre\"\n",
        "tabla.iloc[5,0] = \"A.Residual\"\n",
        "tabla.iloc[6,0] = \"Total\"\n",
        "#Les damos valor a cada uno\n",
        "tabla.iloc[1,1] = BOPD\n",
        "tabla.iloc[2,1] = BWPD\n",
        "tabla.iloc[3,1] = emul\n",
        "tabla.iloc[4,1] = alib\n",
        "tabla.iloc[5,1] = \"-\"\n",
        "tabla.iloc[6,1] = \"-\"\n",
        "#Iteración 1 (A)\n",
        "#Calculos\n",
        "nwalib=alib*(100-efi)/100\n",
        "#Relleno de tabla\n",
        "T1A=nwalib+emul\n",
        "#Iteración 1 (B)\n",
        "tabla.iloc[1,2] = BOPD\n",
        "tabla.iloc[2,2] = aemul\n",
        "tabla.iloc[3,2] = emul\n",
        "tabla.iloc[4,2] = nwalib\n",
        "tabla.iloc[5,2] = \"-\"\n",
        "tabla.iloc[6,2] = T1A\n",
        "#Iteración 1 (B)\n",
        "#Calculos\n",
        "alib2=alib-nwalib\n",
        "T1B=alib2\n",
        "#Relleno de tabla\n",
        "tabla.iloc[1,5] = \"-\"\n",
        "tabla.iloc[2,5] = alib2\n",
        "tabla.iloc[3,5] = \"-\"\n",
        "tabla.iloc[4,5] = alib2\n",
        "tabla.iloc[5,5] = \"-\"\n",
        "tabla.iloc[6,5] = T1B\n",
        "#Iteración 2 (A)\n",
        "#Calculos\n",
        "are=(alib2*ppm)/(1*10**6-ppm)\n",
        "nwoil=BOPD-are\n",
        "nwwater=(nwoil*porc)/(100-porc)\n",
        "nwemul=(nwoil*100)/(100-porc)\n",
        "T2A=nwalib+nwemul\n",
        "#Relleno de tabla\n",
        "tabla.iloc[1,3] = nwoil\n",
        "tabla.iloc[2,3] = nwwater\n",
        "tabla.iloc[3,3] = nwemul\n",
        "tabla.iloc[4,3] = nwalib\n",
        "tabla.iloc[5,3] = \"-\"\n",
        "tabla.iloc[6,3] = T2A\n",
        "#Iteración 2 (B)\n",
        "#Calculos\n",
        "ww=aemul-nwwater\n",
        "nwalib2=alib2+ww\n",
        "T2B=nwalib2+are\n",
        "#Relleno de tabla\n",
        "tabla.iloc[1,6] = are\n",
        "tabla.iloc[2,6] = ww\n",
        "tabla.iloc[3,6] = \"-\"\n",
        "tabla.iloc[4,6] = nwalib2\n",
        "tabla.iloc[5,6] = are\n",
        "tabla.iloc[6,6] = T2B\n",
        "#Iteración 3 (A)\n",
        "#Calculos\n",
        "nware=(nwalib2*ppm)/(1*10**6-ppm)\n",
        "nwoil1=nwoil-(nware-are)\n",
        "nwwater1=(nwoil1*porc)/(100-porc)\n",
        "nwemul1=(nwoil1*100)/(100-porc)\n",
        "T3A=nwalib+nwemul1\n",
        "#Relleno de tabla\n",
        "tabla.iloc[1,4] = nwoil1\n",
        "tabla.iloc[2,4] = nwwater1\n",
        "tabla.iloc[3,4] = nwemul1\n",
        "tabla.iloc[4,4] = nwalib\n",
        "tabla.iloc[5,4] = \"-\"\n",
        "tabla.iloc[6,4] = T3A\n",
        "#Iteración 3 (B)\n",
        "#Calculos\n",
        "nwalib3=nwalib2+(nwwater-nwwater1)\n",
        "T3B=nwalib3+nware\n",
        "#Relleno de tabla\n",
        "tabla.iloc[1,7] = nware\n",
        "tabla.iloc[2,7] = nwwater-nwwater1\n",
        "tabla.iloc[3,7] = \"-\"\n",
        "tabla.iloc[4,7] = nwalib3\n",
        "tabla.iloc[5,7] = nware\n",
        "tabla.iloc[6,7] = T3B\n",
        "\n",
        "tabla.iloc[0,1] = \"Inlet\"\n",
        "tabla.iloc[0,2] = \"Interación 1 (A)\"\n",
        "tabla.iloc[0,3] = \"Interación 2 (A)\"\n",
        "tabla.iloc[0,4] = \"Interación 3 (A)\"\n",
        "tabla.iloc[0,5] = \"Interación 1 (B)\"\n",
        "tabla.iloc[0,6] = \"Interación 2 (B)\"\n",
        "tabla.iloc[0,7] = \"Interación 3 (B)\"\n",
        "print(tabla)\n",
        "\n"
      ],
      "metadata": {
        "colab": {
          "base_uri": "https://localhost:8080/"
        },
        "id": "yrcHTyjy8v2d",
        "outputId": "2d050a60-9e28-4688-e94b-8b3def4b8006"
      },
      "execution_count": null,
      "outputs": [
        {
          "output_type": "stream",
          "name": "stdout",
          "text": [
            "            0             1                 2                 3  \\\n",
            "0       Datos         Inlet  Interación 1 (A)  Interación 2 (A)   \n",
            "1         Oil       37500.0           37500.0       37423.08485   \n",
            "2       Water       87500.0       6617.647059       6604.073797   \n",
            "3    Emulsión  44117.647059      44117.647059      44027.158647   \n",
            "4     A.Libre  80882.352941       4044.117647       4044.117647   \n",
            "5  A.Residual             -                 -                 -   \n",
            "6       Total             -      48161.764706      48071.276294   \n",
            "\n",
            "                  4                 5                 6                 7  \n",
            "0  Interación 3 (A)  Interación 1 (B)  Interación 2 (B)  Interación 3 (B)  \n",
            "1      37423.071263                 -          76.91515         76.928737  \n",
            "2       6604.071399      76838.235294         13.573262          0.002398  \n",
            "3      44027.142662                 -                 -                 -  \n",
            "4       4044.117647      76838.235294      76851.808556      76851.810954  \n",
            "5                 -                 -          76.91515         76.928737  \n",
            "6      48071.260309      76838.235294      76928.723706      76928.739691  \n"
          ]
        }
      ]
    },
    {
      "cell_type": "code",
      "source": [
        "from pandas.core.groupby.groupby import T\n",
        "#A continuacion hacemos el balance volumetrico\n",
        "TOTAL=T1A+T1B\n",
        "TOTAL2=T2A+T2B\n",
        "TOTAL3=T3A+T3B\n",
        "#Completar tablas \n",
        "tabla1 = pd.DataFrame(index=range(3), columns=range(4))\n",
        "tabla1.iloc[0,0] = \"Total A\"\n",
        "tabla1.iloc[1,0] = \"Total B\"\n",
        "tabla1.iloc[2,0] = \"Total\"\n",
        "\n",
        "tabla1.iloc[0,1] = T1A\n",
        "tabla1.iloc[1,1] = T1B\n",
        "tabla1.iloc[2,1] = TOTAL\n",
        "\n",
        "tabla1.iloc[0,2] = T2A\n",
        "tabla1.iloc[1,2] = T2B\n",
        "tabla1.iloc[2,2] = TOTAL2\n",
        "\n",
        "tabla1.iloc[0,3] = T3A\n",
        "tabla1.iloc[1,3] = T3B\n",
        "tabla1.iloc[2,3] = TOTAL3\n",
        "print(tabla1)"
      ],
      "metadata": {
        "colab": {
          "base_uri": "https://localhost:8080/"
        },
        "id": "7yNuVIFvO43L",
        "outputId": "375cec49-76f3-4fb3-fb18-e0c253aedf8c"
      },
      "execution_count": null,
      "outputs": [
        {
          "output_type": "stream",
          "name": "stdout",
          "text": [
            "         0             1             2             3\n",
            "0  Total A  48161.764706  48071.276294  48071.260309\n",
            "1  Total B  76838.235294  76928.723706  76928.739691\n",
            "2    Total      125000.0      125000.0      125000.0\n"
          ]
        }
      ]
    },
    {
      "cell_type": "markdown",
      "source": [
        "## Wash Tank\n",
        "\n"
      ],
      "metadata": {
        "id": "11PbErdAX5KI"
      }
    },
    {
      "cell_type": "code",
      "source": [
        "# Crear un DataFrame vacío con 6 filas y 8 columnas\n",
        "entwash=nwalib+nwemul1\n",
        "print(\"Sus datos de entrada en el wash tank son: \",entwash) \n",
        "tabla2 = pd.DataFrame(index=range(6), columns=range(4))\n",
        "# Agregar datos a la tabla\n",
        "#Completamos la tabla Datos\n",
        "tabla2.iloc[0,0] = \"Datos\" \n",
        "tabla2.iloc[1,0] = \"Oil\"\n",
        "tabla2.iloc[2,0] = \"Emulsión\"\n",
        "tabla2.iloc[3,0] = \"A.Libre\"\n",
        "tabla2.iloc[4,0] = \"A.Emulsionada\"\n",
        "tabla2.iloc[5,0] = \"Total\"\n",
        "\n",
        "#Calculos\n",
        "ww2=nwwater1+nwalib             #Agua\n",
        "mm2=(nwoil1*((0.5)/99.5))       #Agua emulsionada\n",
        "alw2=ww2-mm2\n",
        "arw2=(alw2*ppmw)/(1000000-ppmw)\n",
        "nwoil2=nwoil1-arw2\n",
        "aei2=(nwoil2*((0.5)/99.5))\n",
        "alw3=ww2-aei2\n",
        "arw3=(alw3*ppmw)/(1000000-ppmw)\n",
        "nwoil3=nwoil1-arw2\n",
        "aei3=(nwoil3*((0.5)/99.5))\n",
        "alw4=ww2-aei3\n",
        "\n",
        "#Iteracion 1\n",
        "Tw1a=nwoil1+mm2\n",
        "tabla2.iloc[1,1] = nwoil1\n",
        "tabla2.iloc[2,1] = nwoil1+mm2\n",
        "tabla2.iloc[3,1] = \"-\"\n",
        "tabla2.iloc[4,1] = mm2\n",
        "tabla2.iloc[5,1] = Tw1a\n",
        "\n",
        "tabla2.iloc[0,1] = \"Interación 1 (A)\"\n",
        "tabla2.iloc[0,2] = \"Interación 2 (A)\"\n",
        "tabla2.iloc[0,3] = \"Interación 3 (A)\"\n",
        "\n",
        "#Iteracion 2\n",
        "Tw2a=nwoil2+aei2\n",
        "tabla2.iloc[1,2] = nwoil2\n",
        "tabla2.iloc[2,2] = nwoil2+aei2\n",
        "tabla2.iloc[3,2] = \"-\"\n",
        "tabla2.iloc[4,2] = aei2\n",
        "tabla2.iloc[5,2] = Tw2a\n",
        "\n",
        "#Iteracion 3\n",
        "Tw3a=nwoil3+aei3\n",
        "tabla2.iloc[1,3] = nwoil3\n",
        "tabla2.iloc[2,3] = nwoil3+aei3\n",
        "tabla2.iloc[3,3] = \"-\"\n",
        "tabla2.iloc[4,3] = aei3\n",
        "tabla2.iloc[5,3] = Tw3a\n",
        "\n",
        "print(tabla2)\n",
        "# Crear un DataFrame vacío con 6 filas y 8 columnas\n",
        "tabla3 = pd.DataFrame(index=range(5), columns=range(4))\n",
        "# Agregar datos a la tabla\n",
        "#Completamos la tabla Datos\n",
        "tabla3.iloc[0,0] = \"Datos\"\n",
        "tabla3.iloc[1,0] = \"A.Libre\"\n",
        "tabla3.iloc[2,0] = \"A.Emulsionada\"\n",
        "tabla3.iloc[3,0] = \"A.Residual\"\n",
        "tabla3.iloc[4,0] = \"Total\"\n",
        "\n",
        "Tw1b=alw2\n",
        "tabla3.iloc[1,1] = alw2\n",
        "tabla3.iloc[2,1] = \"-\"\n",
        "tabla3.iloc[3,1] = \"-\"\n",
        "tabla3.iloc[4,1] = Tw1b\n",
        "\n",
        "#Encabezados\n",
        "tabla3.iloc[0,1] = \"Interación 1 (B)\"\n",
        "tabla3.iloc[0,2] = \"Interación 2 (B)\"\n",
        "tabla3.iloc[0,3] = \"Interación 3 (B)\"\n",
        "\n",
        "#Iteracion 2\n",
        "Tw2b=alw3+arw2\n",
        "tabla3.iloc[1,2] = alw3\n",
        "tabla3.iloc[2,2] = \"-\"\n",
        "tabla3.iloc[3,2] = arw2\n",
        "tabla3.iloc[4,2] = Tw2b\n",
        "\n",
        "#Iteracion 3\n",
        "Tw3b=alw4+arw3\n",
        "tabla3.iloc[1,3] = alw4\n",
        "tabla3.iloc[2,3] = \"-\"\n",
        "tabla3.iloc[3,3] = arw3\n",
        "tabla3.iloc[4,3] = Tw3b\n",
        "\n",
        "print(tabla3)\n"
      ],
      "metadata": {
        "colab": {
          "base_uri": "https://localhost:8080/"
        },
        "id": "GLvpcxe6X4Uh",
        "outputId": "dc128b2e-dbca-46cc-ae00-ed7560a1f688"
      },
      "execution_count": null,
      "outputs": [
        {
          "output_type": "stream",
          "name": "stdout",
          "text": [
            "Sus datos de entrada en el wash tank son:  48071.26030906676\n",
            "               0                 1                 2                 3\n",
            "0          Datos  Interación 1 (A)  Interación 2 (A)  Interación 3 (A)\n",
            "1            Oil      37423.071263      37422.025145      37422.025145\n",
            "2       Emulsión      37611.126897      37610.075522      37610.075522\n",
            "3        A.Libre                 -                 -                 -\n",
            "4  A.Emulsionada        188.055634        188.050378        188.050378\n",
            "5          Total      37611.126897      37610.075522      37610.075522\n",
            "               0                 1                 2                 3\n",
            "0          Datos  Interación 1 (B)  Interación 2 (B)  Interación 3 (B)\n",
            "1        A.Libre      10460.133412      10460.138669      10460.138669\n",
            "2  A.Emulsionada                 -                 -                 -\n",
            "3     A.Residual                 -          1.046118          1.046118\n",
            "4          Total      10460.133412      10461.184787      10461.184787\n"
          ]
        }
      ]
    },
    {
      "cell_type": "code",
      "source": [
        "from pandas.core.groupby.groupby import T\n",
        "#A continuacion hacemos el balance volumetrico\n",
        "TOTAL4=Tw1a+Tw1b\n",
        "TOTAL5=Tw2a+Tw2b\n",
        "TOTAL6=Tw3a+Tw3b\n",
        "#Completar tablas \n",
        "tabla2 = pd.DataFrame(index=range(3), columns=range(4))\n",
        "tabla2.iloc[0,0] = \"Total A\"\n",
        "tabla2.iloc[1,0] = \"Total B\"\n",
        "tabla2.iloc[2,0] = \"Total\"\n",
        "\n",
        "tabla2.iloc[0,1] = Tw1a\n",
        "tabla2.iloc[1,1] = Tw1b\n",
        "tabla2.iloc[2,1] = TOTAL4\n",
        "\n",
        "tabla2.iloc[0,2] = Tw2a\n",
        "tabla2.iloc[1,2] = Tw2b\n",
        "tabla2.iloc[2,2] = TOTAL5\n",
        "\n",
        "tabla2.iloc[0,3] = Tw3a\n",
        "tabla2.iloc[1,3] = Tw3b\n",
        "tabla2.iloc[2,3] = TOTAL6\n",
        "print(tabla2)"
      ],
      "metadata": {
        "id": "6zMBftQS64tE",
        "outputId": "62a85844-cb6e-4e3f-ac9d-5179d4bd0b03",
        "colab": {
          "base_uri": "https://localhost:8080/"
        }
      },
      "execution_count": null,
      "outputs": [
        {
          "output_type": "stream",
          "name": "stdout",
          "text": [
            "         0             1             2             3\n",
            "0  Total A  37611.126897  37610.075522  37610.075522\n",
            "1  Total B  10460.133412  10461.184787  10461.184787\n",
            "2    Total  48071.260309  48071.260309   48071.26031\n"
          ]
        }
      ]
    }
  ]
}